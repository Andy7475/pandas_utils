{
 "cells": [
  {
   "cell_type": "code",
   "execution_count": 54,
   "metadata": {},
   "outputs": [],
   "source": [
    "import pandas as pd\n",
    "import numpy as np\n",
    "from utils import get_relation"
   ]
  },
  {
   "cell_type": "code",
   "execution_count": null,
   "metadata": {},
   "outputs": [],
   "source": [
    "get_relation()"
   ]
  },
  {
   "cell_type": "code",
   "execution_count": 45,
   "metadata": {},
   "outputs": [],
   "source": [
    "df = pd.read_excel(\"test_data.xlsx\")"
   ]
  },
  {
   "cell_type": "code",
   "execution_count": 47,
   "metadata": {},
   "outputs": [
    {
     "data": {
      "text/html": [
       "<div>\n",
       "<style scoped>\n",
       "    .dataframe tbody tr th:only-of-type {\n",
       "        vertical-align: middle;\n",
       "    }\n",
       "\n",
       "    .dataframe tbody tr th {\n",
       "        vertical-align: top;\n",
       "    }\n",
       "\n",
       "    .dataframe thead th {\n",
       "        text-align: right;\n",
       "    }\n",
       "</style>\n",
       "<table border=\"1\" class=\"dataframe\">\n",
       "  <thead>\n",
       "    <tr style=\"text-align: right;\">\n",
       "      <th></th>\n",
       "      <th>121_col1</th>\n",
       "      <th>121_col2</th>\n",
       "      <th>12m_col1</th>\n",
       "      <th>12m_col2</th>\n",
       "      <th>m2m_col1</th>\n",
       "      <th>m2m_col2</th>\n",
       "      <th>121_col1_int</th>\n",
       "      <th>121_col2_int</th>\n",
       "    </tr>\n",
       "  </thead>\n",
       "  <tbody>\n",
       "    <tr>\n",
       "      <th>0</th>\n",
       "      <td>A1</td>\n",
       "      <td>A1</td>\n",
       "      <td>B1</td>\n",
       "      <td>B11</td>\n",
       "      <td>D1</td>\n",
       "      <td>D1</td>\n",
       "      <td>1</td>\n",
       "      <td>1.0</td>\n",
       "    </tr>\n",
       "    <tr>\n",
       "      <th>1</th>\n",
       "      <td>A2</td>\n",
       "      <td>A2</td>\n",
       "      <td>B1</td>\n",
       "      <td>B12</td>\n",
       "      <td>D2</td>\n",
       "      <td>D1</td>\n",
       "      <td>2</td>\n",
       "      <td>2.0</td>\n",
       "    </tr>\n",
       "    <tr>\n",
       "      <th>2</th>\n",
       "      <td>A2</td>\n",
       "      <td>A2</td>\n",
       "      <td>B1</td>\n",
       "      <td>B13</td>\n",
       "      <td>D3</td>\n",
       "      <td>D1</td>\n",
       "      <td>2</td>\n",
       "      <td>2.0</td>\n",
       "    </tr>\n",
       "    <tr>\n",
       "      <th>3</th>\n",
       "      <td>A3</td>\n",
       "      <td>NaN</td>\n",
       "      <td>B2</td>\n",
       "      <td>B21</td>\n",
       "      <td>D1</td>\n",
       "      <td>D2</td>\n",
       "      <td>3</td>\n",
       "      <td>NaN</td>\n",
       "    </tr>\n",
       "    <tr>\n",
       "      <th>4</th>\n",
       "      <td>A3</td>\n",
       "      <td>A3</td>\n",
       "      <td>B2</td>\n",
       "      <td>B21</td>\n",
       "      <td>D2</td>\n",
       "      <td>D2</td>\n",
       "      <td>3</td>\n",
       "      <td>3.0</td>\n",
       "    </tr>\n",
       "    <tr>\n",
       "      <th>5</th>\n",
       "      <td>A4</td>\n",
       "      <td>A4</td>\n",
       "      <td>B2</td>\n",
       "      <td>B22</td>\n",
       "      <td>D3</td>\n",
       "      <td>D2</td>\n",
       "      <td>4</td>\n",
       "      <td>4.0</td>\n",
       "    </tr>\n",
       "  </tbody>\n",
       "</table>\n",
       "</div>"
      ],
      "text/plain": [
       "  121_col1 121_col2 12m_col1 12m_col2 m2m_col1 m2m_col2  121_col1_int  \\\n",
       "0       A1       A1       B1      B11       D1       D1             1   \n",
       "1       A2       A2       B1      B12       D2       D1             2   \n",
       "2       A2       A2       B1      B13       D3       D1             2   \n",
       "3       A3      NaN       B2      B21       D1       D2             3   \n",
       "4       A3       A3       B2      B21       D2       D2             3   \n",
       "5       A4       A4       B2      B22       D3       D2             4   \n",
       "\n",
       "   121_col2_int  \n",
       "0           1.0  \n",
       "1           2.0  \n",
       "2           2.0  \n",
       "3           NaN  \n",
       "4           3.0  \n",
       "5           4.0  "
      ]
     },
     "execution_count": 47,
     "metadata": {},
     "output_type": "execute_result"
    }
   ],
   "source": [
    "df"
   ]
  },
  {
   "cell_type": "code",
   "execution_count": 48,
   "metadata": {},
   "outputs": [
    {
     "name": "stdout",
     "output_type": "stream",
     "text": [
      "gb col1 121_col2    1\n",
      "dtype: int64\n",
      "gb col2 121_col1    1\n",
      "dtype: int64\n",
      "one-to-one  reversed  one-to-one\n",
      "one-to-many  reversed  many-to-one\n"
     ]
    }
   ],
   "source": [
    "col1 = \"121_col1\"\n",
    "col2 = \"121_col2\"\n",
    "print(\"gb col1\", df[[col1, col2]].groupby(col1).nunique().max())\n",
    "print(\"gb col2\", df[[col1, col2]].groupby(col2).nunique().max())\n",
    "print(get_relation(df, col1, col2), ' reversed ', get_relation(df, col2, col1))\n",
    "print(get_relation(df, col1, col2, ignore_na=False), ' reversed ', get_relation(df, col2, col1, ignore_na=False))"
   ]
  },
  {
   "cell_type": "code",
   "execution_count": 49,
   "metadata": {},
   "outputs": [
    {
     "name": "stdout",
     "output_type": "stream",
     "text": [
      "gb col1 121_col2_int    1\n",
      "dtype: int64\n",
      "gb col2 121_col1_int    1\n",
      "dtype: int64\n",
      "one-to-one  reversed  one-to-one\n",
      "use na one-to-many  reversed  many-to-one\n"
     ]
    }
   ],
   "source": [
    "col1 = \"121_col1_int\"\n",
    "col2 = \"121_col2_int\"\n",
    "print(\"gb col1\", df[[col1, col2]].groupby(col1).nunique().max())\n",
    "print(\"gb col2\", df[[col1, col2]].groupby(col2).nunique().max())\n",
    "print(get_relation(df, col1, col2), ' reversed ', get_relation(df, col2, col1))\n",
    "print(\"use na\", get_relation(df, col1, col2, ignore_na=False), ' reversed ', get_relation(df, col2, col1, ignore_na=False))"
   ]
  },
  {
   "cell_type": "code",
   "execution_count": 50,
   "metadata": {},
   "outputs": [
    {
     "name": "stdout",
     "output_type": "stream",
     "text": [
      "gb col1 12m_col2    3\n",
      "dtype: int64\n",
      "gb col2 12m_col1    1\n",
      "dtype: int64\n",
      "one-to-many  reversed  many-to-one\n"
     ]
    }
   ],
   "source": [
    "col1 = \"12m_col1\"\n",
    "col2 = \"12m_col2\"\n",
    "print(\"gb col1\", df[[col1, col2]].groupby(col1).nunique().max())\n",
    "print(\"gb col2\", df[[col1, col2]].groupby(col2).nunique().max())\n",
    "print(get_relation(df, col1, col2), ' reversed ', get_relation(df, col2, col1))"
   ]
  },
  {
   "cell_type": "code",
   "execution_count": 51,
   "metadata": {},
   "outputs": [
    {
     "name": "stdout",
     "output_type": "stream",
     "text": [
      "gb col1 m2m_col2    2\n",
      "dtype: int64\n",
      "gb col2 m2m_col1    3\n",
      "dtype: int64\n",
      "many-to-many  reversed  many-to-many\n"
     ]
    }
   ],
   "source": [
    "col1 = \"m2m_col1\"\n",
    "col2 = \"m2m_col2\"\n",
    "print(\"gb col1\", df[[col1, col2]].groupby(col1).nunique().max())\n",
    "print(\"gb col2\", df[[col1, col2]].groupby(col2).nunique().max())\n",
    "print(get_relation(df, col1, col2), ' reversed ', get_relation(df, col2, col1))"
   ]
  },
  {
   "cell_type": "code",
   "execution_count": null,
   "metadata": {},
   "outputs": [],
   "source": []
  }
 ],
 "metadata": {
  "kernelspec": {
   "display_name": "Python 3",
   "language": "python",
   "name": "python3"
  },
  "language_info": {
   "codemirror_mode": {
    "name": "ipython",
    "version": 3
   },
   "file_extension": ".py",
   "mimetype": "text/x-python",
   "name": "python",
   "nbconvert_exporter": "python",
   "pygments_lexer": "ipython3",
   "version": "3.8.5"
  }
 },
 "nbformat": 4,
 "nbformat_minor": 4
}

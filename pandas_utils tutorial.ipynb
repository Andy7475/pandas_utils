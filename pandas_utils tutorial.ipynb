{
 "cells": [
  {
   "cell_type": "code",
   "execution_count": 39,
   "metadata": {},
   "outputs": [],
   "source": [
    "import pandas as pd\n",
    "import numpy as np"
   ]
  },
  {
   "cell_type": "code",
   "execution_count": 32,
   "metadata": {},
   "outputs": [],
   "source": [
    "df = pd.read_excel(\"test_data.xlsx\")"
   ]
  },
  {
   "cell_type": "code",
   "execution_count": 40,
   "metadata": {},
   "outputs": [
    {
     "data": {
      "text/plain": [
       "{'121_col1': {0: 'A1', 1: 'A2', 2: 'A2', 3: 'A3', 4: 'A3', 5: 'A4'},\n",
       " '121_col2': {0: 'A1', 1: 'A2', 2: 'A2', 3: nan, 4: 'A3', 5: 'A4'},\n",
       " '12m_col1': {0: 'B1', 1: 'B1', 2: 'B1', 3: 'B2', 4: 'B2', 5: 'B2'},\n",
       " '12m_col2': {0: 'B11', 1: 'B12', 2: 'B13', 3: 'B21', 4: 'B21', 5: 'B22'},\n",
       " 'm2m_col1': {0: 'D1', 1: 'D2', 2: 'D3', 3: 'D1', 4: 'D2', 5: 'D3'},\n",
       " 'm2m_col2': {0: 'D1', 1: 'D1', 2: 'D1', 3: 'D2', 4: 'D2', 5: 'D2'},\n",
       " '121_col1_int': {0: 1, 1: 2, 2: 2, 3: 3, 4: 3, 5: 4},\n",
       " '121_col2_int': {0: 1.0, 1: 2.0, 2: 2.0, 3: '-1', 4: 3.0, 5: 4.0}}"
      ]
     },
     "execution_count": 40,
     "metadata": {},
     "output_type": "execute_result"
    }
   ],
   "source": [
    "df.to_dict()"
   ]
  },
  {
   "cell_type": "code",
   "execution_count": 42,
   "metadata": {},
   "outputs": [],
   "source": [
    "test_data = {'121_col1': {0: 'A1', 1: 'A2', 2: 'A2', 3: 'A3', 4: 'A3', 5: 'A4'},\n",
    " '121_col2': {0: 'A1', 1: 'A2', 2: 'A2', 3: np.nan, 4: 'A3', 5: 'A4'},\n",
    " '12m_col1': {0: 'B1', 1: 'B1', 2: 'B1', 3: 'B2', 4: 'B2', 5: 'B2'},\n",
    " '12m_col2': {0: 'B11', 1: 'B12', 2: 'B13', 3: 'B21', 4: 'B21', 5: 'B22'},\n",
    " 'm2m_col1': {0: 'D1', 1: 'D2', 2: 'D3', 3: 'D1', 4: 'D2', 5: 'D3'},\n",
    " 'm2m_col2': {0: 'D1', 1: 'D1', 2: 'D1', 3: 'D2', 4: 'D2', 5: 'D2'},\n",
    " '121_col1_int': {0: 1, 1: 2, 2: 2, 3: 3, 4: 3, 5: 4},\n",
    " '121_col2_int': {0: 1.0, 1: 2.0, 2: 2.0, 3: '-1', 4: 3.0, 5: 4.0}}"
   ]
  },
  {
   "cell_type": "code",
   "execution_count": 44,
   "metadata": {},
   "outputs": [
    {
     "data": {
      "text/html": [
       "<div>\n",
       "<style scoped>\n",
       "    .dataframe tbody tr th:only-of-type {\n",
       "        vertical-align: middle;\n",
       "    }\n",
       "\n",
       "    .dataframe tbody tr th {\n",
       "        vertical-align: top;\n",
       "    }\n",
       "\n",
       "    .dataframe thead th {\n",
       "        text-align: right;\n",
       "    }\n",
       "</style>\n",
       "<table border=\"1\" class=\"dataframe\">\n",
       "  <thead>\n",
       "    <tr style=\"text-align: right;\">\n",
       "      <th></th>\n",
       "      <th>121_col1</th>\n",
       "      <th>121_col2</th>\n",
       "      <th>12m_col1</th>\n",
       "      <th>12m_col2</th>\n",
       "      <th>m2m_col1</th>\n",
       "      <th>m2m_col2</th>\n",
       "      <th>121_col1_int</th>\n",
       "      <th>121_col2_int</th>\n",
       "    </tr>\n",
       "  </thead>\n",
       "  <tbody>\n",
       "    <tr>\n",
       "      <th>0</th>\n",
       "      <td>A1</td>\n",
       "      <td>A1</td>\n",
       "      <td>B1</td>\n",
       "      <td>B11</td>\n",
       "      <td>D1</td>\n",
       "      <td>D1</td>\n",
       "      <td>1</td>\n",
       "      <td>1</td>\n",
       "    </tr>\n",
       "    <tr>\n",
       "      <th>1</th>\n",
       "      <td>A2</td>\n",
       "      <td>A2</td>\n",
       "      <td>B1</td>\n",
       "      <td>B12</td>\n",
       "      <td>D2</td>\n",
       "      <td>D1</td>\n",
       "      <td>2</td>\n",
       "      <td>2</td>\n",
       "    </tr>\n",
       "    <tr>\n",
       "      <th>2</th>\n",
       "      <td>A2</td>\n",
       "      <td>A2</td>\n",
       "      <td>B1</td>\n",
       "      <td>B13</td>\n",
       "      <td>D3</td>\n",
       "      <td>D1</td>\n",
       "      <td>2</td>\n",
       "      <td>2</td>\n",
       "    </tr>\n",
       "    <tr>\n",
       "      <th>3</th>\n",
       "      <td>A3</td>\n",
       "      <td>NaN</td>\n",
       "      <td>B2</td>\n",
       "      <td>B21</td>\n",
       "      <td>D1</td>\n",
       "      <td>D2</td>\n",
       "      <td>3</td>\n",
       "      <td>-1</td>\n",
       "    </tr>\n",
       "    <tr>\n",
       "      <th>4</th>\n",
       "      <td>A3</td>\n",
       "      <td>A3</td>\n",
       "      <td>B2</td>\n",
       "      <td>B21</td>\n",
       "      <td>D2</td>\n",
       "      <td>D2</td>\n",
       "      <td>3</td>\n",
       "      <td>3</td>\n",
       "    </tr>\n",
       "    <tr>\n",
       "      <th>5</th>\n",
       "      <td>A4</td>\n",
       "      <td>A4</td>\n",
       "      <td>B2</td>\n",
       "      <td>B22</td>\n",
       "      <td>D3</td>\n",
       "      <td>D2</td>\n",
       "      <td>4</td>\n",
       "      <td>4</td>\n",
       "    </tr>\n",
       "  </tbody>\n",
       "</table>\n",
       "</div>"
      ],
      "text/plain": [
       "  121_col1 121_col2 12m_col1 12m_col2 m2m_col1 m2m_col2  121_col1_int  \\\n",
       "0       A1       A1       B1      B11       D1       D1             1   \n",
       "1       A2       A2       B1      B12       D2       D1             2   \n",
       "2       A2       A2       B1      B13       D3       D1             2   \n",
       "3       A3      NaN       B2      B21       D1       D2             3   \n",
       "4       A3       A3       B2      B21       D2       D2             3   \n",
       "5       A4       A4       B2      B22       D3       D2             4   \n",
       "\n",
       "  121_col2_int  \n",
       "0            1  \n",
       "1            2  \n",
       "2            2  \n",
       "3           -1  \n",
       "4            3  \n",
       "5            4  "
      ]
     },
     "execution_count": 44,
     "metadata": {},
     "output_type": "execute_result"
    }
   ],
   "source": [
    "pd.DataFrame(test_data)"
   ]
  },
  {
   "cell_type": "code",
   "execution_count": 31,
   "metadata": {},
   "outputs": [
    {
     "name": "stdout",
     "output_type": "stream",
     "text": [
      "gb col1 121_col2    1\n",
      "dtype: int64\n",
      "gb col2 121_col1    1\n",
      "dtype: int64\n",
      "one-to-one  reversed  one-to-one\n",
      "one-to-many  reversed  many-to-one\n"
     ]
    }
   ],
   "source": [
    "col1 = \"121_col1\"\n",
    "col2 = \"121_col2\"\n",
    "print(\"gb col1\", df[[col1, col2]].groupby(col1).nunique().max())\n",
    "print(\"gb col2\", df[[col1, col2]].groupby(col2).nunique().max())\n",
    "print(get_relation(df, col1, col2), ' reversed ', get_relation(df, col2, col1))\n",
    "print(get_relation(df, col1, col2, ignore_na=False), ' reversed ', get_relation(df, col2, col1, ignore_na=False))"
   ]
  },
  {
   "cell_type": "code",
   "execution_count": 36,
   "metadata": {},
   "outputs": [
    {
     "name": "stdout",
     "output_type": "stream",
     "text": [
      "gb col1 121_col2_int    2\n",
      "dtype: int64\n",
      "gb col2 121_col1_int    1\n",
      "dtype: int64\n",
      "one-to-many  reversed  many-to-one\n",
      "use na one-to-many  reversed  many-to-one\n"
     ]
    }
   ],
   "source": [
    "col1 = \"121_col1_int\"\n",
    "col2 = \"121_col2_int\"\n",
    "print(\"gb col1\", df[[col1, col2]].groupby(col1).nunique().max())\n",
    "print(\"gb col2\", df[[col1, col2]].groupby(col2).nunique().max())\n",
    "print(get_relation(df, col1, col2), ' reversed ', get_relation(df, col2, col1))\n",
    "print(\"use na\", get_relation(df, col1, col2, ignore_na=False), ' reversed ', get_relation(df, col2, col1, ignore_na=False))"
   ]
  },
  {
   "cell_type": "code",
   "execution_count": 28,
   "metadata": {},
   "outputs": [
    {
     "name": "stdout",
     "output_type": "stream",
     "text": [
      "gb col1 12m_col2    3\n",
      "dtype: int64\n",
      "gb col2 12m_col1    1\n",
      "dtype: int64\n",
      "one-to-many  reversed  many-to-one\n"
     ]
    }
   ],
   "source": [
    "col1 = \"12m_col1\"\n",
    "col2 = \"12m_col2\"\n",
    "print(\"gb col1\", df[[col1, col2]].groupby(col1).nunique().max())\n",
    "print(\"gb col2\", df[[col1, col2]].groupby(col2).nunique().max())\n",
    "print(get_relation(df, col1, col2), ' reversed ', get_relation(df, col2, col1))"
   ]
  },
  {
   "cell_type": "code",
   "execution_count": 30,
   "metadata": {},
   "outputs": [
    {
     "name": "stdout",
     "output_type": "stream",
     "text": [
      "gb col1 m2m_col2    2\n",
      "dtype: int64\n",
      "gb col2 m2m_col1    3\n",
      "dtype: int64\n",
      "many-to-many  reversed  many-to-many\n"
     ]
    }
   ],
   "source": [
    "col1 = \"m2m_col1\"\n",
    "col2 = \"m2m_col2\"\n",
    "print(\"gb col1\", df[[col1, col2]].groupby(col1).nunique().max())\n",
    "print(\"gb col2\", df[[col1, col2]].groupby(col2).nunique().max())\n",
    "print(get_relation(df, col1, col2), ' reversed ', get_relation(df, col2, col1))"
   ]
  },
  {
   "cell_type": "code",
   "execution_count": 22,
   "metadata": {},
   "outputs": [],
   "source": [
    "def get_relation(df, col1, col2, ignore_na=True, na_replace_value=\"-1\"):\n",
    "    \"\"\"Returns the type of relationship between the two columns. one-to-one, one-to-many, many-to-one or many-to-many\n",
    "    option for ignoring missing values. If na is not ignored, then nan's are replaced with the na_replace_value before the\n",
    "    relationship is determined\n",
    "    \n",
    "    Returns a string of the type of relationship from the list of 4 options\"\"\"\n",
    "    \n",
    "    if ignore_na == False:\n",
    "        df[[col1, col2]] = df[[col1, col2]].fillna(na_replace_value)\n",
    "        \n",
    "    max_values_from_col1 = df[[col1, col2]].groupby(col1).nunique().max().values\n",
    "    max_values_from_col2 = df[[col1, col2]].groupby(col2).nunique().max().values\n",
    "    \n",
    "    if max_values_from_col2 == 1: #then it is 1-to-something\n",
    "        if max_values_from_col1 == 1:\n",
    "            return \"one-to-one\"\n",
    "        else:\n",
    "            return \"one-to-many\"\n",
    "    else: #then it is many-to-something\n",
    "        if max_values_from_col1 == 1:\n",
    "            return \"many-to-one\"\n",
    "        else:\n",
    "            return \"many-to-many\"\n",
    "    "
   ]
  },
  {
   "cell_type": "code",
   "execution_count": null,
   "metadata": {},
   "outputs": [],
   "source": []
  }
 ],
 "metadata": {
  "kernelspec": {
   "display_name": "Python 3",
   "language": "python",
   "name": "python3"
  },
  "language_info": {
   "codemirror_mode": {
    "name": "ipython",
    "version": 3
   },
   "file_extension": ".py",
   "mimetype": "text/x-python",
   "name": "python",
   "nbconvert_exporter": "python",
   "pygments_lexer": "ipython3",
   "version": "3.8.5"
  }
 },
 "nbformat": 4,
 "nbformat_minor": 4
}
